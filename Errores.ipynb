{
 "cells": [
  {
   "cell_type": "markdown",
   "id": "7dc18e35",
   "metadata": {},
   "source": [
    "# Errores Tarea 02"
   ]
  },
  {
   "cell_type": "markdown",
   "id": "dd78cff7",
   "metadata": {},
   "source": [
    "## Cálculo de Errores para Aceleración de Gravedad"
   ]
  },
  {
   "cell_type": "code",
   "execution_count": 11,
   "id": "27ae9798",
   "metadata": {},
   "outputs": [],
   "source": [
    "import numpy as np\n",
    "import matplotlib.pyplot as plt"
   ]
  },
  {
   "cell_type": "code",
   "execution_count": 12,
   "id": "002ceb1a",
   "metadata": {},
   "outputs": [],
   "source": [
    "datos = np.genfromtxt(\"\\\\Users\\\\Catazla\\\\Desktop\\\\Lab I\\\\Datos\\\\datos carrito.txt\")\n",
    "theta = datos[:,0] #ángulos tomados\n",
    "tiempo = datos[:,1] #tiempo del carrito "
   ]
  },
  {
   "cell_type": "code",
   "execution_count": 13,
   "id": "4947efd7",
   "metadata": {},
   "outputs": [
    {
     "name": "stdout",
     "output_type": "stream",
     "text": [
      "[2.885 1.479 1.148 0.78  0.837 0.812 0.623 0.629]\n"
     ]
    }
   ],
   "source": [
    "#Promedio de los Tiempos para cada Ángulo\n",
    "mean = np.array([])\n",
    "for i in range(8):\n",
    "    mean = np.append(mean, np.mean(datos[i*10:(i+1)*10,1]))\n",
    "print(mean)"
   ]
  },
  {
   "cell_type": "code",
   "execution_count": 14,
   "id": "c8227d3b",
   "metadata": {},
   "outputs": [
    {
     "name": "stdout",
     "output_type": "stream",
     "text": [
      "[0.28063544 0.1232325  0.0538052  0.07245688 0.11180899 0.10883474\n",
      " 0.11640984 0.08809796]\n"
     ]
    }
   ],
   "source": [
    "#Desviación Estándar para cada Promedio\n",
    "error = np.array([])\n",
    "for i in range(0,8):\n",
    "    sigma = np.sqrt(np.sum((datos[i*10:(i+1)*10,1]-mean[i])**2)/8)\n",
    "    error = np.append(error,sigma)\n",
    "print(error)"
   ]
  },
  {
   "cell_type": "code",
   "execution_count": 15,
   "id": "643addb2",
   "metadata": {},
   "outputs": [],
   "source": [
    "#Definimos nuestros ángulos\n",
    "a = [1, 4, 6, 8, 10, 12, 15, 18]"
   ]
  },
  {
   "cell_type": "code",
   "execution_count": 16,
   "id": "04ce4612",
   "metadata": {},
   "outputs": [
    {
     "name": "stdout",
     "output_type": "stream",
     "text": [
      "[7.56958972 3.78623653 3.09301992 2.68054034 2.39974384 2.19311065\n",
      " 1.96563051 1.79890744]\n"
     ]
    }
   ],
   "source": [
    "#Hacemos 1/(sin(theta))^(1/2)\n",
    "q = np.array([])\n",
    "for i in range(len(a)):\n",
    "    x = np.sqrt(np.sin(np.pi*a[i]/180))\n",
    "    q = np.append(q, (1/x))\n",
    "print(q)\n"
   ]
  },
  {
   "cell_type": "code",
   "execution_count": 17,
   "id": "44676f4a",
   "metadata": {},
   "outputs": [
    {
     "name": "stdout",
     "output_type": "stream",
     "text": [
      "[0.3811303  0.39062536 0.37115829 0.29098611 0.34878723 0.37025036\n",
      " 0.31694665 0.34965668]\n"
     ]
    }
   ],
   "source": [
    "#Calculamos la pendiente para cada punto\n",
    "pend = np.array([])\n",
    "for i in range(8):\n",
    "    r = mean[i]/q[i]\n",
    "    pend = np.append(pend,r)\n",
    "print(pend) "
   ]
  },
  {
   "cell_type": "code",
   "execution_count": 18,
   "id": "8dfbc23b",
   "metadata": {},
   "outputs": [
    {
     "name": "stdout",
     "output_type": "stream",
     "text": [
      "[12.94228311 12.32074539 13.64707278 22.20308594 15.45385038 13.71408638\n",
      " 18.71481444 15.37709135]\n"
     ]
    }
   ],
   "source": [
    "#Calculamos la gravedad para cada pendiente que tenemos\n",
    "g_prom = np.array([])\n",
    "for i in range(8):\n",
    "    g= 2*0.94/(pend[i]**2)\n",
    "    g_prom = np.append(g_prom,g)\n",
    "print(g_prom)"
   ]
  },
  {
   "cell_type": "code",
   "execution_count": 19,
   "id": "3e67f367",
   "metadata": {},
   "outputs": [
    {
     "name": "stdout",
     "output_type": "stream",
     "text": [
      "15.546628720057463\n"
     ]
    }
   ],
   "source": [
    "#Obtenemos el promedio de la aceleración de gravedad\n",
    "print(np.mean(g_prom))"
   ]
  },
  {
   "cell_type": "code",
   "execution_count": 20,
   "id": "13f9bcb1",
   "metadata": {},
   "outputs": [
    {
     "name": "stdout",
     "output_type": "stream",
     "text": [
      "3.133261833255082\n"
     ]
    }
   ],
   "source": [
    "#Calculamos la desviación estándar para la gravedad\n",
    "sm = np.sqrt(np.sum((g_prom-np.mean(g_prom))**2)/8)\n",
    "print(sm)"
   ]
  },
  {
   "cell_type": "markdown",
   "id": "e033f27b",
   "metadata": {},
   "source": [
    "## Cálculo de Errores para Constante de Elasticidad"
   ]
  },
  {
   "cell_type": "code",
   "execution_count": 21,
   "id": "7083d3fc",
   "metadata": {},
   "outputs": [],
   "source": [
    "dats = np.genfromtxt(\"\\\\Users\\\\Catazla\\\\Desktop\\\\Lab I\\\\Datos\\\\datos_resorte.txt\")\n",
    "m = dats[:,0] #masa\n",
    "x = dats[:,1] #distancia"
   ]
  },
  {
   "cell_type": "code",
   "execution_count": 22,
   "id": "1b6b52bd",
   "metadata": {},
   "outputs": [
    {
     "name": "stdout",
     "output_type": "stream",
     "text": [
      "[0.075 0.154 0.311 0.009 0.003 0.249 0.102 0.004 0.355 0.053 0.023 0.03\n",
      " 0.236 0.128]\n"
     ]
    }
   ],
   "source": [
    "#Cambiamos la unidad de medidad de centímetros a metros\n",
    "x_m = np.array([])\n",
    "for i in range(14):\n",
    "    x[i]= x[i]/100\n",
    "    x_m = np.append(x_m, x[i])\n",
    "print(x_m)"
   ]
  },
  {
   "cell_type": "code",
   "execution_count": 23,
   "id": "aa91739b",
   "metadata": {},
   "outputs": [
    {
     "name": "stdout",
     "output_type": "stream",
     "text": [
      "[0.25   0.4997 0.9996 0.0477 0.0258 0.7975 0.3399 0.0406 1.1228 0.1872\n",
      " 0.09   0.1054 0.7497 0.4168]\n"
     ]
    }
   ],
   "source": [
    "#Cambiamos la unidad de medidad de gramos a kilogramos\n",
    "m_kg = np.array([])\n",
    "for i in range(14):\n",
    "    m[i]= m[i]/1000\n",
    "    m_kg = np.append(m_kg, m[i])\n",
    "print(m_kg)"
   ]
  },
  {
   "cell_type": "code",
   "execution_count": 24,
   "id": "6e162d81",
   "metadata": {},
   "outputs": [
    {
     "name": "stdout",
     "output_type": "stream",
     "text": [
      "[0.01301944 0.0080942  0.05005421 0.03065868 0.03226225 0.03348402\n",
      " 0.00580339 0.03199499 0.06181371 0.01889919 0.02691703 0.0250462\n",
      " 0.03000962 0.00114541]\n"
     ]
    }
   ],
   "source": [
    "#Calculamos la desviación estándar para cada una de las distancias medidas\n",
    "ror = np.array([])\n",
    "for i in range(14):\n",
    "    sig = np.sqrt(np.sum((x[i]-np.mean(x))**2)/14)\n",
    "    ror = np.append(ror,sig)\n",
    "print(ror)"
   ]
  },
  {
   "cell_type": "code",
   "execution_count": 25,
   "id": "bef9660b",
   "metadata": {},
   "outputs": [
    {
     "name": "stdout",
     "output_type": "stream",
     "text": [
      "[0.3        0.30818491 0.31112445 0.18867925 0.11627907 0.31222571\n",
      " 0.30008826 0.09852217 0.31617385 0.28311966 0.25555556 0.28462998\n",
      " 0.31479258 0.30710173]\n"
     ]
    }
   ],
   "source": [
    "#Calculamos la pendiente para cada punto\n",
    "pend = np.array([])\n",
    "for i in range(14):\n",
    "    r = x_m[i]/m_kg[i]\n",
    "    pend = np.append(pend,r)\n",
    "print(pend)\n"
   ]
  },
  {
   "cell_type": "code",
   "execution_count": 26,
   "id": "13ffcdec",
   "metadata": {},
   "outputs": [],
   "source": [
    "#Quitamos los valores que generan problemas\n",
    "pend = np.delete(pend,10)\n",
    "pend = np.delete(pend,7)\n",
    "pend = np.delete(pend,4)\n",
    "pend = np.delete(pend,3)"
   ]
  },
  {
   "cell_type": "code",
   "execution_count": 27,
   "id": "31bb2b13",
   "metadata": {},
   "outputs": [
    {
     "name": "stdout",
     "output_type": "stream",
     "text": [
      "[53.33333333 51.91688312 51.42636656 51.24497992 53.31764706 50.60507042\n",
      " 56.51320755 56.21333333 50.82711864 52.1       ]\n"
     ]
    }
   ],
   "source": [
    "#Calculamos la cte. de elasticidad para cada pendiente con la gravedad obtenida anteriormente\n",
    "l= 16/pend\n",
    "print(l)"
   ]
  },
  {
   "cell_type": "code",
   "execution_count": 28,
   "id": "a2aa3d84",
   "metadata": {},
   "outputs": [
    {
     "name": "stdout",
     "output_type": "stream",
     "text": [
      "52.749793993531036\n"
     ]
    }
   ],
   "source": [
    "#Obtenemos el promedio de las ctes. de elasticidad\n",
    "print(np.mean(l))"
   ]
  },
  {
   "cell_type": "code",
   "execution_count": 29,
   "id": "445b6763",
   "metadata": {},
   "outputs": [
    {
     "name": "stdout",
     "output_type": "stream",
     "text": [
      "2.006259694727068\n"
     ]
    }
   ],
   "source": [
    "#Calculamos la desviación estándar para la cte. de elasticidad\n",
    "sig = np.sqrt(np.sum((l-np.mean(l))**2)/10)\n",
    "print(sig)"
   ]
  }
 ],
 "metadata": {
  "kernelspec": {
   "display_name": "Python 3",
   "language": "python",
   "name": "python3"
  },
  "language_info": {
   "codemirror_mode": {
    "name": "ipython",
    "version": 3
   },
   "file_extension": ".py",
   "mimetype": "text/x-python",
   "name": "python",
   "nbconvert_exporter": "python",
   "pygments_lexer": "ipython3",
   "version": "3.11.9"
  }
 },
 "nbformat": 4,
 "nbformat_minor": 5
}
